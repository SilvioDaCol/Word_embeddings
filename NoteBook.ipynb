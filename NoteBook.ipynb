{
 "cells": [
  {
   "cell_type": "markdown",
   "metadata": {},
   "source": [
    "# Embeddings de palavras\n",
    "## Um classificador de sentimentos baseado nas críticas de filmes do IMDB\n",
    "\n",
    "Modelos de _machine learning_ recebem dados numéricos como entrada. Portanto, para realizar o processamento de palavras é necessário aplicar algum método de conversão. \n",
    "Existem algumas abordagens, conforme segue:\n",
    "1. **One hot**: Se trata de representar cada palavra de um dado conjunto como um valor numérico distinto, utilizando-se apenas de valores binários (0 e 1):\n",
    "\n",
    "<img src='https://miro.medium.com/max/700/1*O_pTwOZZLYZabRjw3Ga21A.png'/>\n",
    "Figura 1 - Vetor de One-hot encoding. Fonte: [towardsdatascience.com] (https://towardsdatascience.com/stop-one-hot-encoding-your-categorical-variables-bbb0fba89809)\n",
    "\n",
    "2. **Atribuir a cada palavra um valor inteiro aleatório**. Ex:\n",
    "  |Gato | Bola | Rato | Queijo|\n",
    "  | ---- | ----- | ----- | ----- |\n",
    "  |5 | 8 | 3 | 1|\n",
    "\n",
    "3. **_Embedding_ de palavras**: Consiste em atribuir um vetor de tamanho fixo para representar as palavras. O tamanho do vetor pode ser escolhido manualmente (geralmente levando-se em consideração o tamanho do conjunto de dados), no entanto os valores são atribuídos automaticamente como pesos aprendidos pelos modelos. Com isso, a representação da palavra passa a ter um significado, onde palavras mais fortemente relacionados estarão mais próximas entre si. \n",
    "\n",
    "## Comparação entre os métodos apresentados\n",
    "Representar as palavras utilizando a técnica de one-hot encoding pode ser ineficiente, pois teríamos, principalmente em basses de dados grandes, muitas dimensões e com números (zeros) repetidos em 99,9% das vezes, o que se torna em um vetor escasso. A segunda abordagem citada pode parecer mais aplicável, pois cada palavra será representada por um número distinto. O viés desta técnica é que não haverá nenhuma relação entre as palavras, ligada ao seu significado. A terceira forma apresentada atribui valores que estão relacionados de alguma forma ao o quecada palavra significa.\n",
    "\n",
    "Na sequência, será aplicada a técnica de embedding de palavras a uma base de dados de críticas de filmes do [IMDB](https://www.imdb.com/).\n",
    "\n",
    "## Configuração"
   ]
  },
  {
   "cell_type": "code",
   "execution_count": 1,
   "metadata": {},
   "outputs": [],
   "source": [
    "from __future__ import absolute_import, division, print_function, unicode_literals\n",
    "import tensorflow as tf\n",
    "from tensorflow import keras\n",
    "from tensorflow.keras import layers\n",
    "\n",
    "import tensorflow_datasets as tfds\n",
    "tfds.disable_progress_bar()"
   ]
  },
  {
   "cell_type": "markdown",
   "metadata": {},
   "source": [
    "## Camada de embeddings\n",
    "\n",
    "Na sessão anterior foi explicado que, nesta abordagem, cada palavra é representada por um vetor denso. \n",
    "A camada de embeddings nada mais é do que uma matriz que relaciona cada índice de uma palavra (número inteiro) a um vetor denso, ou _embedding_.\n",
    "Na inicialização abaixo, temos um vocabulário de 1000 palavras e um vetor de 5 dimensões (tamanho fixo) para representa cada palavra. Os valores de ponto flutuante (pesos) nos embeddings são atribuídos aleatoriamente e serão ajustados por _backpropagation_ aproximando as palavras por semelhança."
   ]
  },
  {
   "cell_type": "code",
   "execution_count": 2,
   "metadata": {},
   "outputs": [],
   "source": [
    "embedding_layer = layers.Embedding(1000, 5)"
   ]
  },
  {
   "cell_type": "markdown",
   "metadata": {},
   "source": [
    "Ao passar um vetor de inteiros para a função `embedding_layer()`, esta retorna os vetores densos respectivos ao índices passados:"
   ]
  },
  {
   "cell_type": "code",
   "execution_count": 3,
   "metadata": {},
   "outputs": [
    {
     "name": "stdout",
     "output_type": "stream",
     "text": [
      "======= 3 embeddings pertencentes aos índices [1, 2, 3] respectivamente: =======\n",
      "\n",
      "[[-0.02675997  0.02044157 -0.01202003  0.03798063  0.03595218]\n",
      " [ 0.04804147  0.00705868  0.02513948  0.02426311 -0.00118761]\n",
      " [ 0.0395375   0.03951658 -0.01552973 -0.01714464 -0.04022117]]\n",
      "\n",
      "======= embeddings pertencentes aos índices [[1, 2, 3] [4, 5, 6]], respectivamente: =======\n"
     ]
    },
    {
     "data": {
      "text/plain": [
       "<tf.Tensor: shape=(2, 3, 5), dtype=float32, numpy=\n",
       "array([[[-0.04888009,  0.02668187,  0.01199325, -0.007107  ,\n",
       "          0.04688461],\n",
       "        [-0.02675997,  0.02044157, -0.01202003,  0.03798063,\n",
       "          0.03595218],\n",
       "        [ 0.04804147,  0.00705868,  0.02513948,  0.02426311,\n",
       "         -0.00118761]],\n",
       "\n",
       "       [[ 0.0395375 ,  0.03951658, -0.01552973, -0.01714464,\n",
       "         -0.04022117],\n",
       "        [ 0.0035943 ,  0.00318234, -0.01507302,  0.02970947,\n",
       "          0.04309196],\n",
       "        [ 0.02700115, -0.02096868,  0.03736966, -0.02265607,\n",
       "         -0.02417264]]], dtype=float32)>"
      ]
     },
     "execution_count": 3,
     "metadata": {},
     "output_type": "execute_result"
    }
   ],
   "source": [
    "result = embedding_layer(tf.constant([1,2,3]))\n",
    "print(\"======= 3 embeddings pertencentes aos índices [1, 2, 3] respectivamente: =======\")\n",
    "print()\n",
    "print(result.numpy())\n",
    "print()\n",
    "print(\"======= embeddings pertencentes aos índices [[1, 2, 3] [4, 5, 6]], respectivamente: =======\")\n",
    "result = embedding_layer(tf.constant([[0,1,2],[3,4,5]]))\n",
    "result"
   ]
  },
  {
   "cell_type": "markdown",
   "metadata": {},
   "source": [
    "\\\n",
    "\\\n",
    "Agora vamos carregar os dados de avaliações de filmes do IMDB em dados de treinamento e teste. Vamos também verificar algumas informações adicionais sobre o _dataset_."
   ]
  },
  {
   "cell_type": "code",
   "execution_count": 5,
   "metadata": {},
   "outputs": [
    {
     "name": "stderr",
     "output_type": "stream",
     "text": [
      "WARNING:absl:TFDS datasets with text encoding are deprecated and will be removed in a future version. Instead, you should use the plain text version and tokenize the text using `tensorflow_text` (See: https://www.tensorflow.org/tutorials/tensorflow_text/intro#tfdata_example)\n"
     ]
    }
   ],
   "source": [
    "(train_data, test_data), info = tfds.load(\n",
    "    'imdb_reviews/subwords8k', \n",
    "    split = (tfds.Split.TRAIN, tfds.Split.TEST), \n",
    "    with_info=True, as_supervised=True)"
   ]
  },
  {
   "cell_type": "code",
   "execution_count": 21,
   "metadata": {},
   "outputs": [
    {
     "name": "stdout",
     "output_type": "stream",
     "text": [
      "======= Descrição dos dados =======\n",
      "\n",
      "Large Movie Review Dataset.\n",
      "This is a dataset for binary sentiment classification containing substantially more data than previous benchmark datasets. We provide a set of 25,000 highly polar movie reviews for training, and 25,000 for testing. There is additional unlabeled data for use as well.\n",
      "\n",
      "Tamanho:  54.72 MiB\n",
      "\n",
      "Atributos:  dict_keys(['text', 'label'])\n"
     ]
    }
   ],
   "source": [
    "print(\"======= Descrição dos dados =======\")\n",
    "print()\n",
    "print(info.description)\n",
    "print()\n",
    "print(\"Tamanho: \", info.dataset_size)\n",
    "print()\n",
    "print(\"Atributos: \", info.features.keys())"
   ]
  },
  {
   "cell_type": "code",
   "execution_count": 11,
   "metadata": {},
   "outputs": [
    {
     "data": {
      "text/plain": [
       "['the_',\n",
       " ', ',\n",
       " '. ',\n",
       " 'a_',\n",
       " 'and_',\n",
       " 'of_',\n",
       " 'to_',\n",
       " 's_',\n",
       " 'is_',\n",
       " 'br',\n",
       " 'in_',\n",
       " 'I_',\n",
       " 'that_',\n",
       " 'this_',\n",
       " 'it_',\n",
       " ' /><',\n",
       " ' />',\n",
       " 'was_',\n",
       " 'The_',\n",
       " 'as_']"
      ]
     },
     "execution_count": 11,
     "metadata": {},
     "output_type": "execute_result"
    }
   ],
   "source": [
    "encoder = info.features['text'].encoder\n",
    "encoder.subwords[:20]"
   ]
  },
  {
   "cell_type": "code",
   "execution_count": 12,
   "metadata": {},
   "outputs": [],
   "source": [
    "train_batches = train_data.shuffle(1000).padded_batch(10)\n",
    "test_batches = test_data.shuffle(1000).padded_batch(10)"
   ]
  },
  {
   "cell_type": "code",
   "execution_count": 13,
   "metadata": {},
   "outputs": [
    {
     "name": "stdout",
     "output_type": "stream",
     "text": [
      "Model: \"sequential\"\n",
      "_________________________________________________________________\n",
      "Layer (type)                 Output Shape              Param #   \n",
      "=================================================================\n",
      "embedding_1 (Embedding)      (None, None, 16)          130960    \n",
      "_________________________________________________________________\n",
      "global_average_pooling1d (Gl (None, 16)                0         \n",
      "_________________________________________________________________\n",
      "dense (Dense)                (None, 16)                272       \n",
      "_________________________________________________________________\n",
      "dense_1 (Dense)              (None, 1)                 17        \n",
      "=================================================================\n",
      "Total params: 131,249\n",
      "Trainable params: 131,249\n",
      "Non-trainable params: 0\n",
      "_________________________________________________________________\n"
     ]
    }
   ],
   "source": [
    "embedding_dim=16\n",
    "\n",
    "model = keras.Sequential([\n",
    "  layers.Embedding(encoder.vocab_size, embedding_dim),\n",
    "  layers.GlobalAveragePooling1D(),\n",
    "  layers.Dense(16, activation='relu'),\n",
    "  layers.Dense(1, activation='sigmoid')\n",
    "])\n",
    "\n",
    "model.summary()"
   ]
  },
  {
   "cell_type": "code",
   "execution_count": 14,
   "metadata": {},
   "outputs": [
    {
     "name": "stdout",
     "output_type": "stream",
     "text": [
      "Epoch 1/10\n",
      "2500/2500 [==============================] - 8s 3ms/step - loss: 0.6058 - accuracy: 0.6607 - val_loss: 0.3617 - val_accuracy: 0.8600\n",
      "Epoch 2/10\n",
      "2500/2500 [==============================] - 7s 3ms/step - loss: 0.2967 - accuracy: 0.8890 - val_loss: 0.3945 - val_accuracy: 0.8600\n",
      "Epoch 3/10\n",
      "2500/2500 [==============================] - 7s 3ms/step - loss: 0.2348 - accuracy: 0.9143 - val_loss: 0.4263 - val_accuracy: 0.8400\n",
      "Epoch 4/10\n",
      "2500/2500 [==============================] - 7s 3ms/step - loss: 0.2016 - accuracy: 0.9274 - val_loss: 0.4250 - val_accuracy: 0.8700\n",
      "Epoch 5/10\n",
      "2500/2500 [==============================] - 7s 3ms/step - loss: 0.1733 - accuracy: 0.9393 - val_loss: 0.4693 - val_accuracy: 0.8700\n",
      "Epoch 6/10\n",
      "2500/2500 [==============================] - 7s 3ms/step - loss: 0.1567 - accuracy: 0.9449 - val_loss: 0.3686 - val_accuracy: 0.8750\n",
      "Epoch 7/10\n",
      "2500/2500 [==============================] - 7s 3ms/step - loss: 0.1435 - accuracy: 0.9475 - val_loss: 0.2813 - val_accuracy: 0.9200\n",
      "Epoch 8/10\n",
      "2500/2500 [==============================] - 7s 3ms/step - loss: 0.1312 - accuracy: 0.9545 - val_loss: 0.5573 - val_accuracy: 0.8100\n",
      "Epoch 9/10\n",
      "2500/2500 [==============================] - 7s 3ms/step - loss: 0.1208 - accuracy: 0.9593 - val_loss: 0.4934 - val_accuracy: 0.8650\n",
      "Epoch 10/10\n",
      "2500/2500 [==============================] - 7s 3ms/step - loss: 0.1088 - accuracy: 0.9638 - val_loss: 0.5269 - val_accuracy: 0.8650\n"
     ]
    }
   ],
   "source": [
    "model.compile(optimizer='adam',\n",
    "              loss='binary_crossentropy',\n",
    "              metrics=['accuracy'])\n",
    "\n",
    "history = model.fit(\n",
    "    train_batches,\n",
    "    epochs=10,\n",
    "    validation_data=test_batches, validation_steps=20)"
   ]
  },
  {
   "cell_type": "code",
   "execution_count": 15,
   "metadata": {},
   "outputs": [
    {
     "data": {
      "image/png": "[encoded data removed]",
      "text/plain": [
       "<Figure size 864x648 with 1 Axes>"
      ]
     },
     "metadata": {
      "needs_background": "light"
     },
     "output_type": "display_data"
    },
    {
     "data": {
      "image/png": "[encoded data removed]",
      "text/plain": [
       "<Figure size 864x648 with 1 Axes>"
      ]
     },
     "metadata": {
      "needs_background": "light"
     },
     "output_type": "display_data"
    }
   ],
   "source": [
    "import matplotlib.pyplot as plt\n",
    "\n",
    "history_dict = history.history\n",
    "\n",
    "acc = history_dict['accuracy']\n",
    "val_acc = history_dict['val_accuracy']\n",
    "loss = history_dict['loss']\n",
    "val_loss = history_dict['val_loss']\n",
    "\n",
    "epochs = range(1, len(acc) + 1)\n",
    "\n",
    "plt.figure(figsize=(12,9))\n",
    "plt.plot(epochs, loss, 'bo', label='Training loss')\n",
    "plt.plot(epochs, val_loss, 'b', label='Validation loss')\n",
    "plt.title('Training and validation loss')\n",
    "plt.xlabel('Epochs')\n",
    "plt.ylabel('Loss')\n",
    "plt.legend()\n",
    "plt.show()\n",
    "\n",
    "plt.figure(figsize=(12,9))\n",
    "plt.plot(epochs, acc, 'bo', label='Training acc')\n",
    "plt.plot(epochs, val_acc, 'b', label='Validation acc')\n",
    "plt.title('Training and validation accuracy')\n",
    "plt.xlabel('Epochs')\n",
    "plt.ylabel('Accuracy')\n",
    "plt.legend(loc='lower right')\n",
    "plt.ylim((0.5,1))\n",
    "plt.show()"
   ]
  },
  {
   "cell_type": "code",
   "execution_count": 16,
   "metadata": {},
   "outputs": [
    {
     "name": "stdout",
     "output_type": "stream",
     "text": [
      "(8185, 16)\n"
     ]
    }
   ],
   "source": [
    "e = model.layers[0]\n",
    "weights = e.get_weights()[0]\n",
    "print(weights.shape) # formato: (vocab_size, embedding_dim)"
   ]
  },
  {
   "cell_type": "code",
   "execution_count": 17,
   "metadata": {},
   "outputs": [],
   "source": [
    "import io\n",
    "\n",
    "encoder = info.features['text'].encoder\n",
    "\n",
    "out_v = io.open('vecs.tsv', 'w', encoding='utf-8')\n",
    "out_m = io.open('meta.tsv', 'w', encoding='utf-8')\n",
    "\n",
    "for num, word in enumerate(encoder.subwords):\n",
    "  vec = weights[num+1] # pule o 0, está preenchido.\n",
    "  out_m.write(word + \"\\n\")\n",
    "  out_v.write('\\t'.join([str(x) for x in vec]) + \"\\n\")\n",
    "out_v.close()\n",
    "out_m.close()"
   ]
  },
  {
   "cell_type": "code",
   "execution_count": 18,
   "metadata": {},
   "outputs": [],
   "source": [
    "try:\n",
    "  from google.colab import files\n",
    "except ImportError:\n",
    "   pass\n",
    "else:\n",
    "  files.download('vecs.tsv')\n",
    "  files.download('meta.tsv')"
   ]
  },
  {
   "cell_type": "code",
   "execution_count": null,
   "metadata": {},
   "outputs": [],
   "source": []
  },
  {
   "cell_type": "code",
   "execution_count": null,
   "metadata": {},
   "outputs": [],
   "source": []
  },
  {
   "cell_type": "code",
   "execution_count": null,
   "metadata": {},
   "outputs": [],
   "source": []
  }
 ],
 "metadata": {
  "kernelspec": {
   "display_name": "Python 3",
   "language": "python",
   "name": "python3"
  },
  "language_info": {
   "codemirror_mode": {
    "name": "ipython",
    "version": 3
   },
   "file_extension": ".py",
   "mimetype": "text/x-python",
   "name": "python",
   "nbconvert_exporter": "python",
   "pygments_lexer": "ipython3",
   "version": "3.8.5"
  }
 },
 "nbformat": 4,
 "nbformat_minor": 4
}
