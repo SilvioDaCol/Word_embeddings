{
 "cells": [
  {
   "cell_type": "markdown",
   "metadata": {},
   "source": [
    "# Embeddings de palavras\n",
    "## Um classificador de sentimentos baseado nas críticas de filmes do IMDB\n",
    "\n",
    "Modelos de _machine learning_ recebem dados numéricos como entrada. Portanto, para realizar o processamento de palavras é necessário aplicar algum método de conversão. \n",
    "Existem algumas abordagens, conforme segue:\n",
    "1. **One hot**: Se trata de representar cada palavra de um dado conjunto como um valor numérico distinto, utilizando-se apenas de valores binários (0 e 1):\n",
    "\n",
    "<img src='https://miro.medium.com/max/700/1*O_pTwOZZLYZabRjw3Ga21A.png'/>\n",
    "\n",
    "Figura 1 - Vetor de One-hot encoding. Fonte: [towardsdatascience](https://towardsdatascience.com/stop-one-hot-encoding-your-categorical-variables-bbb0fba89809)\n",
    "\n",
    "2. **Atribuir a cada palavra um valor inteiro aleatório**. Ex:\n",
    "  |Gato | Bola | Rato | Queijo|\n",
    "  | ---- | ----- | ----- | ----- |\n",
    "  |5 | 8 | 3 | 1|\n",
    "\n",
    "3. **_Embedding_ de palavras**: Consiste em atribuir um vetor de tamanho fixo para representar as palavras. O tamanho do vetor pode ser escolhido manualmente (geralmente levando-se em consideração o tamanho do conjunto de dados), no entanto os valores são atribuídos automaticamente como pesos aprendidos pelos modelos. Com isso, a representação da palavra passa a ter um significado, onde palavras mais fortemente relacionados estarão mais próximas entre si. \n",
    "\n",
    "## Comparação entre os métodos apresentados\n",
    "Representar as palavras utilizando a técnica de one-hot encoding pode ser ineficiente, pois teríamos, principalmente em basses de dados grandes, muitas dimensões e com números (zeros) repetidos em 99,9% das vezes, o que se torna em um vetor escasso. A segunda abordagem citada pode parecer mais aplicável, pois cada palavra será representada por um número distinto. O viés desta técnica é que não haverá nenhuma relação entre as palavras, ligada ao seu significado. A terceira forma apresentada atribui valores que estão relacionados de alguma forma ao o quecada palavra significa.\n",
    "\n",
    "Na sequência, será aplicada a técnica de embedding de palavras a uma base de dados de críticas de filmes do [IMDB](https://www.imdb.com/).\n",
    "\n",
    "## Configuração"
   ]
  },
  {
   "cell_type": "code",
   "execution_count": 1,
   "metadata": {},
   "outputs": [],
   "source": [
    "from __future__ import absolute_import, division, print_function, unicode_literals\n",
    "import tensorflow as tf\n",
    "from tensorflow import keras\n",
    "from tensorflow.keras import layers\n",
    "\n",
    "import tensorflow_datasets as tfds\n",
    "tfds.disable_progress_bar()"
   ]
  },
  {
   "cell_type": "markdown",
   "metadata": {},
   "source": [
    "## Camada de embeddings\n",
    "\n",
    "Na sessão anterior foi explicado que, nesta abordagem, cada palavra é representada por um vetor denso. \n",
    "A camada de embeddings nada mais é do que uma matriz que relaciona cada índice de uma palavra (número inteiro) a um vetor denso, ou _embedding_.\n",
    "Na inicialização abaixo, temos um vocabulário de 1000 palavras e um vetor de 5 dimensões (tamanho fixo) para representa cada palavra. Os valores de ponto flutuante (pesos) nos embeddings são atribuídos aleatoriamente e serão ajustados por _backpropagation_ aproximando as palavras por semelhança."
   ]
  },
  {
   "cell_type": "code",
   "execution_count": 2,
   "metadata": {},
   "outputs": [],
   "source": [
    "embedding_layer = layers.Embedding(1000, 5)"
   ]
  },
  {
   "cell_type": "markdown",
   "metadata": {},
   "source": [
    "Ao passar um vetor de inteiros para a função `embedding_layer()`, esta retorna os vetores densos respectivos ao índices passados:"
   ]
  },
  {
   "cell_type": "code",
   "execution_count": 3,
   "metadata": {},
   "outputs": [
    {
     "name": "stdout",
     "output_type": "stream",
     "text": [
      "======= 3 embeddings pertencentes aos índices [1, 2, 3] respectivamente: =======\n",
      "\n",
      "[[-0.02285676 -0.02714741 -0.04845528 -0.03665419  0.03487485]\n",
      " [ 0.01169112  0.03013584 -0.02193317  0.04728539  0.00593655]\n",
      " [-0.00340394  0.02382647  0.02565725  0.00127627 -0.02103051]]\n",
      "\n",
      "======= embeddings pertencentes aos índices [[1, 2, 3] [4, 5, 6]], respectivamente: =======\n"
     ]
    },
    {
     "data": {
      "text/plain": [
       "<tf.Tensor: shape=(2, 3, 5), dtype=float32, numpy=\n",
       "array([[[ 0.00902678, -0.03908378, -0.01380403, -0.0375342 ,\n",
       "         -0.02423294],\n",
       "        [-0.02285676, -0.02714741, -0.04845528, -0.03665419,\n",
       "          0.03487485],\n",
       "        [ 0.01169112,  0.03013584, -0.02193317,  0.04728539,\n",
       "          0.00593655]],\n",
       "\n",
       "       [[-0.00340394,  0.02382647,  0.02565725,  0.00127627,\n",
       "         -0.02103051],\n",
       "        [ 0.02359859, -0.03953557,  0.04354579,  0.03216983,\n",
       "          0.02901692],\n",
       "        [-0.02566222,  0.03200964,  0.02102376, -0.00856983,\n",
       "          0.01939024]]], dtype=float32)>"
      ]
     },
     "execution_count": 3,
     "metadata": {},
     "output_type": "execute_result"
    }
   ],
   "source": [
    "result = embedding_layer(tf.constant([1,2,3]))\n",
    "print(\"======= 3 embeddings pertencentes aos índices [1, 2, 3] respectivamente: =======\")\n",
    "print()\n",
    "print(result.numpy())\n",
    "print()\n",
    "print(\"======= embeddings pertencentes aos índices [[1, 2, 3] [4, 5, 6]], respectivamente: =======\")\n",
    "result = embedding_layer(tf.constant([[0,1,2],[3,4,5]]))\n",
    "result"
   ]
  },
  {
   "cell_type": "markdown",
   "metadata": {},
   "source": [
    "\\\n",
    "\\\n",
    "Agora vamos carregar os dados de avaliações de filmes do IMDB em dados de treinamento e teste. Vamos também verificar algumas informações adicionais sobre o _dataset_."
   ]
  },
  {
   "cell_type": "code",
   "execution_count": 4,
   "metadata": {},
   "outputs": [
    {
     "name": "stderr",
     "output_type": "stream",
     "text": [
      "WARNING:absl:TFDS datasets with text encoding are deprecated and will be removed in a future version. Instead, you should use the plain text version and tokenize the text using `tensorflow_text` (See: https://www.tensorflow.org/tutorials/tensorflow_text/intro#tfdata_example)\n"
     ]
    }
   ],
   "source": [
    "(train_data, test_data), info = tfds.load(\n",
    "    'imdb_reviews/subwords8k', \n",
    "    split = (tfds.Split.TRAIN, tfds.Split.TEST), \n",
    "    with_info=True, as_supervised=True)"
   ]
  },
  {
   "cell_type": "code",
   "execution_count": 8,
   "metadata": {},
   "outputs": [
    {
     "name": "stdout",
     "output_type": "stream",
     "text": [
      "======= Descrição dos dados =======\n",
      "\n",
      "Large Movie Review Dataset.\n",
      "This is a dataset for binary sentiment classification containing substantially more data than previous benchmark datasets. We provide a set of 25,000 highly polar movie reviews for training, and 25,000 for testing. There is additional unlabeled data for use as well.\n",
      "\n",
      "Tamanho:  54.72 MiB\n",
      "\n",
      "Atributos:  dict_keys(['text', 'label'])\n"
     ]
    }
   ],
   "source": [
    "print(\"======= Descrição dos dados =======\")\n",
    "print()\n",
    "print(info.description)\n",
    "print()\n",
    "print(\"Tamanho: \", info.dataset_size)\n",
    "print()\n",
    "print(\"Atributos: \", info.features.keys())"
   ]
  },
  {
   "cell_type": "markdown",
   "metadata": {},
   "source": [
    "\\\n",
    "\\\n",
    "A seguir podem ser observadas algumas palavras do vocabulário:"
   ]
  },
  {
   "cell_type": "code",
   "execution_count": 6,
   "metadata": {},
   "outputs": [
    {
     "data": {
      "text/plain": [
       "['the_',\n",
       " ', ',\n",
       " '. ',\n",
       " 'a_',\n",
       " 'and_',\n",
       " 'of_',\n",
       " 'to_',\n",
       " 's_',\n",
       " 'is_',\n",
       " 'br',\n",
       " 'in_',\n",
       " 'I_',\n",
       " 'that_',\n",
       " 'this_',\n",
       " 'it_',\n",
       " ' /><',\n",
       " ' />',\n",
       " 'was_',\n",
       " 'The_',\n",
       " 'as_']"
      ]
     },
     "execution_count": 6,
     "metadata": {},
     "output_type": "execute_result"
    }
   ],
   "source": [
    "encoder = info.features['text'].encoder\n",
    "encoder.subwords[:20]"
   ]
  },
  {
   "cell_type": "markdown",
   "metadata": {},
   "source": [
    "\\\n",
    "\\\n",
    "Os lotes devem possuir o mesmo comprimento, no entanto as avaliações não se enquadram a este quesito. O método a baixo se encarrega de fazê-lo:"
   ]
  },
  {
   "cell_type": "code",
   "execution_count": 41,
   "metadata": {},
   "outputs": [
    {
     "name": "stdout",
     "output_type": "stream",
     "text": [
      " ===== Cada número inteiro representa uma palavra do vocabulário: ===== \n",
      "\n",
      "Shape:  (10, 1218)\n",
      "\n",
      "[[  12  800  359 ...    0    0    0]\n",
      " [2892    7 1680 ...    0    0    0]\n",
      " [  12  393   14 ...    0    0    0]\n",
      " ...\n",
      " [ 433  284    1 ...    5 1879 7975]\n",
      " [  19   77  457 ...    0    0    0]\n",
      " [7963 3923   34 ...    0    0    0]]\n"
     ]
    }
   ],
   "source": [
    "train_batches = train_data.shuffle(1000).padded_batch(10)\n",
    "test_batches = test_data.shuffle(1000).padded_batch(10)\n",
    "train_batch, train_labels = next(iter(train_batches))\n",
    "print(\" ===== Cada número inteiro representa uma palavra do vocabulário: ===== \")\n",
    "print()\n",
    "print(\"Shape: \", train_batch.numpy().shape)\n",
    "print()\n",
    "print(train_batch.numpy())"
   ]
  },
  {
   "cell_type": "markdown",
   "metadata": {},
   "source": [
    "## Contruindo o Modelo"
   ]
  },
  {
   "cell_type": "code",
   "execution_count": 44,
   "metadata": {},
   "outputs": [
    {
     "name": "stdout",
     "output_type": "stream",
     "text": [
      "Model: \"sequential_1\"\n",
      "_________________________________________________________________\n",
      "Layer (type)                 Output Shape              Param #   \n",
      "=================================================================\n",
      "embedding_2 (Embedding)      (None, None, 16)          130960    \n",
      "_________________________________________________________________\n",
      "global_average_pooling1d_1 ( (None, 16)                0         \n",
      "_________________________________________________________________\n",
      "dense_2 (Dense)              (None, 16)                272       \n",
      "_________________________________________________________________\n",
      "dense_3 (Dense)              (None, 1)                 17        \n",
      "=================================================================\n",
      "Total params: 131,249\n",
      "Trainable params: 131,249\n",
      "Non-trainable params: 0\n",
      "_________________________________________________________________\n"
     ]
    }
   ],
   "source": [
    "embedding_dim=16\n",
    "\n",
    "model = keras.Sequential([\n",
    "  layers.Embedding(encoder.vocab_size, embedding_dim),\n",
    "  layers.GlobalAveragePooling1D(),\n",
    "  layers.Dense(16, activation='relu'),\n",
    "  layers.Dense(1, activation='sigmoid')\n",
    "])\n",
    "\n",
    "model.summary()"
   ]
  },
  {
   "cell_type": "markdown",
   "metadata": {},
   "source": [
    "\\\n",
    "\\\n",
    "Compilando..."
   ]
  },
  {
   "cell_type": "code",
   "execution_count": 45,
   "metadata": {},
   "outputs": [
    {
     "name": "stdout",
     "output_type": "stream",
     "text": [
      "Epoch 1/10\n",
      "2500/2500 [==============================] - 9s 3ms/step - loss: 0.6067 - accuracy: 0.6577 - val_loss: 0.3543 - val_accuracy: 0.8450\n",
      "Epoch 2/10\n",
      "2500/2500 [==============================] - 8s 3ms/step - loss: 0.2941 - accuracy: 0.8894 - val_loss: 0.2769 - val_accuracy: 0.9050\n",
      "Epoch 3/10\n",
      "2500/2500 [==============================] - 8s 3ms/step - loss: 0.2336 - accuracy: 0.9140 - val_loss: 0.3497 - val_accuracy: 0.8550\n",
      "Epoch 4/10\n",
      "2500/2500 [==============================] - 8s 3ms/step - loss: 0.2013 - accuracy: 0.9280 - val_loss: 0.3013 - val_accuracy: 0.9000\n",
      "Epoch 5/10\n",
      "2500/2500 [==============================] - 8s 3ms/step - loss: 0.1797 - accuracy: 0.9361 - val_loss: 0.3715 - val_accuracy: 0.8500\n",
      "Epoch 6/10\n",
      "2500/2500 [==============================] - 8s 3ms/step - loss: 0.1558 - accuracy: 0.9457 - val_loss: 0.2753 - val_accuracy: 0.9000\n",
      "Epoch 7/10\n",
      "2500/2500 [==============================] - 8s 3ms/step - loss: 0.1458 - accuracy: 0.9501 - val_loss: 0.2892 - val_accuracy: 0.9000\n",
      "Epoch 8/10\n",
      "2500/2500 [==============================] - 8s 3ms/step - loss: 0.1311 - accuracy: 0.9568 - val_loss: 0.5087 - val_accuracy: 0.8600\n",
      "Epoch 9/10\n",
      "2500/2500 [==============================] - 8s 3ms/step - loss: 0.1208 - accuracy: 0.9619 - val_loss: 0.5114 - val_accuracy: 0.8400\n",
      "Epoch 10/10\n",
      "2500/2500 [==============================] - 8s 3ms/step - loss: 0.1109 - accuracy: 0.9635 - val_loss: 0.3942 - val_accuracy: 0.8800\n"
     ]
    }
   ],
   "source": [
    "model.compile(optimizer='adam',\n",
    "              loss='binary_crossentropy',\n",
    "              metrics=['accuracy'])\n",
    "\n",
    "history = model.fit(\n",
    "    train_batches,\n",
    "    epochs=10,\n",
    "    validation_data=test_batches, validation_steps=20)"
   ]
  },
  {
   "cell_type": "markdown",
   "metadata": {},
   "source": [
    "\\\n",
    "\\\n",
    "Precisão e taxa de perda:"
   ]
  },
  {
   "cell_type": "code",
   "execution_count": 46,
   "metadata": {},
   "outputs": [
    {
     "data": {
      "image/png": "[encoded data removed]",
      "text/plain": [
       "<Figure size 864x648 with 1 Axes>"
      ]
     },
     "metadata": {
      "needs_background": "light"
     },
     "output_type": "display_data"
    },
    {
     "data": {
      "image/png": "[encoded data removed]",
      "text/plain": [
       "<Figure size 864x648 with 1 Axes>"
      ]
     },
     "metadata": {
      "needs_background": "light"
     },
     "output_type": "display_data"
    }
   ],
   "source": [
    "import matplotlib.pyplot as plt\n",
    "\n",
    "history_dict = history.history\n",
    "\n",
    "acc = history_dict['accuracy']\n",
    "val_acc = history_dict['val_accuracy']\n",
    "loss = history_dict['loss']\n",
    "val_loss = history_dict['val_loss']\n",
    "\n",
    "epochs = range(1, len(acc) + 1)\n",
    "\n",
    "plt.figure(figsize=(12,9))\n",
    "plt.plot(epochs, loss, 'bo', label='Training loss')\n",
    "plt.plot(epochs, val_loss, 'b', label='Validation loss')\n",
    "plt.title('Training and validation loss')\n",
    "plt.xlabel('Epochs')\n",
    "plt.ylabel('Loss')\n",
    "plt.legend()\n",
    "plt.show()\n",
    "\n",
    "plt.figure(figsize=(12,9))\n",
    "plt.plot(epochs, acc, 'bo', label='Training acc')\n",
    "plt.plot(epochs, val_acc, 'b', label='Validation acc')\n",
    "plt.title('Training and validation accuracy')\n",
    "plt.xlabel('Epochs')\n",
    "plt.ylabel('Accuracy')\n",
    "plt.legend(loc='lower right')\n",
    "plt.ylim((0.5,1))\n",
    "plt.show()"
   ]
  },
  {
   "cell_type": "markdown",
   "metadata": {},
   "source": [
    "\\\n",
    "\\\n",
    "Agora os pesos foram reajustados:"
   ]
  },
  {
   "cell_type": "code",
   "execution_count": 48,
   "metadata": {},
   "outputs": [
    {
     "name": "stdout",
     "output_type": "stream",
     "text": [
      "(8185, 16)\n"
     ]
    }
   ],
   "source": [
    "e = model.layers[0]\n",
    "weights = e.get_weights()[0]\n",
    "print(weights.shape) # formato: (vocab_size, embedding_dim)"
   ]
  },
  {
   "cell_type": "markdown",
   "metadata": {},
   "source": [
    "\\\n",
    "\\\n",
    "Para visualização serão salvos dois arquivos, um contendo os vetores com os pesos atualizados pelo modelo e outro com as palavras:"
   ]
  },
  {
   "cell_type": "code",
   "execution_count": 49,
   "metadata": {},
   "outputs": [],
   "source": [
    "import io\n",
    "\n",
    "encoder = info.features['text'].encoder\n",
    "\n",
    "out_v = io.open('vecs.tsv', 'w', encoding='utf-8')\n",
    "out_m = io.open('meta.tsv', 'w', encoding='utf-8')\n",
    "\n",
    "for num, word in enumerate(encoder.subwords):\n",
    "  vec = weights[num+1] # pule o 0, está preenchido.\n",
    "  out_m.write(word + \"\\n\")\n",
    "  out_v.write('\\t'.join([str(x) for x in vec]) + \"\\n\")\n",
    "out_v.close()\n",
    "out_m.close()"
   ]
  },
  {
   "cell_type": "markdown",
   "metadata": {},
   "source": [
    "\\\n",
    "\\\n",
    "Abaixo pode ser conferido alguns resultados por meio do [Projetor de embeddings](http://projector.tensorflow.org/):\n",
    "\\\n",
    "Palavra: Wondeful e seus vizinhos próximos:\\\n",
    "<img src='projector_wonderful.png' width=\"500\" height=\"500\"/> <img src='projector_wonderful1.png'/>\n",
    "\n",
    "\\\n",
    "Palavra: Terrible e seus vizinhos próximos:\\\n",
    "<img src='projector_terrible.png' width=\"500\" height=\"500\"/> <img src='projector_terrible1.png'/>\n"
   ]
  },
  {
   "cell_type": "markdown",
   "metadata": {},
   "source": [
    "# Conclusão\n",
    "\n",
    "Podemos observar pelas imagens e tabela acima que as distâncias entre as palavras possuem agora um sentido semântico"
   ]
  },
  {
   "cell_type": "code",
   "execution_count": null,
   "metadata": {},
   "outputs": [],
   "source": []
  },
  {
   "cell_type": "code",
   "execution_count": null,
   "metadata": {},
   "outputs": [],
   "source": []
  }
 ],
 "metadata": {
  "kernelspec": {
   "display_name": "Python 3",
   "language": "python",
   "name": "python3"
  },
  "language_info": {
   "codemirror_mode": {
    "name": "ipython",
    "version": 3
   },
   "file_extension": ".py",
   "mimetype": "text/x-python",
   "name": "python",
   "nbconvert_exporter": "python",
   "pygments_lexer": "ipython3",
   "version": "3.8.5"
  }
 },
 "nbformat": 4,
 "nbformat_minor": 4
}
